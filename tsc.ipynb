{
 "cells": [
  {
   "cell_type": "code",
   "execution_count": 1,
   "metadata": {},
   "outputs": [],
   "source": [
    "from typing import List, Dict, Set, Any, Optional, Tuple, Literal, Callable\n",
    "import numpy as np\n",
    "import torch\n",
    "from torch import Tensor\n",
    "import sigkernel\n",
    "import os\n",
    "import sys\n",
    "import tslearn\n",
    "import tslearn.metrics\n",
    "import ksig\n",
    "from tqdm import tqdm\n",
    "import aeon\n",
    "\n",
    "from features.random_fourier import RBF_RandomFourierFeatures\n",
    "from features.random_sig_fourier import SigRBFTensorizedRandProj, SigVanillaTensorizedRandProj\n",
    "from features.signature import SigTransform, LogSigTransform\n",
    "from features.randomized_sig import RandomizedSignature\n",
    "from features.random_warping_series import RandomWarpingSeries\n",
    "\n",
    "\n",
    "#####################################################################\n",
    "################## Print torch tensors ##############################\n",
    "#####################################################################\n",
    "import inspect\n",
    "\n",
    "def mod_retrieve_name(var):\n",
    "    callers_local_vars = inspect.currentframe().f_back.f_back.f_locals.items()\n",
    "    return [var_name for var_name, var_val in callers_local_vars if var_val is var]\n",
    "\n",
    "\n",
    "def print_shape(X):\n",
    "    \"\"\"Prints the name and shape of an array.\"\"\"\n",
    "    print(X.shape, mod_retrieve_name(X)[0], \"\\n\")\n",
    "\n",
    "\n",
    "def print_tensor(X):\n",
    "    \"\"\"Prints the name and shape of an array, then the array itself.\"\"\"\n",
    "    print(X.shape, mod_retrieve_name(X)[0])\n",
    "    print(X, \"\\n\")"
   ]
  },
  {
   "cell_type": "markdown",
   "metadata": {},
   "source": [
    "# test aoen toolkit"
   ]
  },
  {
   "cell_type": "code",
   "execution_count": 2,
   "metadata": {},
   "outputs": [],
   "source": [
    "# Print the different datasets\n",
    "from aeon.datasets.tsc_datasets import multivariate, univariate\n",
    "from aeon.datasets import load_classification\n",
    "\n",
    "def get_aeon_dataset(\n",
    "        dataset_name:str, \n",
    "        ):\n",
    "    \"\"\"Loads a dataset from the UCR/UEA archive using \n",
    "    the aeon library.\n",
    "\n",
    "    Args:\n",
    "        dataset_name (str): Name of the dataset\n",
    "\n",
    "    Returns:\n",
    "        Tuple: 4-tuple of the form (X_train, y_train, X_test, y_test)\n",
    "    \"\"\"\n",
    "    X_train, y_train = load_classification(dataset_name, split=\"train\")\n",
    "    X_test, y_test = load_classification(dataset_name, split=\"test\")\n",
    "\n",
    "    return X_train.transpose(0, 2, 1), y_train, X_test.transpose(0, 2, 1), y_test\n",
    "\n",
    "\n",
    "datasets_to_test = [\"EthanolConcentration\", \"Heartbeat\"]\n",
    "# for dataset_name in datasets_to_test:\n",
    "#     X_train, y_train, X_test, y_test = get_aeon_dataset(dataset_name)\n",
    "#     print(f\"Dataset: {dataset_name}\")\n",
    "#     print(f\"X_train shape: {X_train.shape}\")\n",
    "#     print(f\"y_train shape: {y_train.shape}\")\n",
    "#     print(f\"X_test shape: {X_test.shape}\")\n",
    "#     print(f\"y_test shape: {y_test.shape}\")\n",
    "#     print(\"\\n\")\n"
   ]
  },
  {
   "cell_type": "markdown",
   "metadata": {},
   "source": [
    "# obtain minirocket results for univariate time series"
   ]
  },
  {
   "cell_type": "code",
   "execution_count": 3,
   "metadata": {},
   "outputs": [],
   "source": [
    "from aeon.benchmarking import get_estimator_results_as_array\n",
    "from aeon.datasets.tsc_datasets import univariate, univariate_equal_length\n",
    "from aeon.registry import all_estimators\n",
    "\n",
    "# est = all_estimators(\"classifier\", filter_tags={\"algorithm_type\": \"convolution\"})\n",
    "# for c in est:\n",
    "#     print(c)\n",
    "# names = [t[0].replace(\"Classifier\", \"\") for t in est]\n",
    "# # names.append(\"MiniROCKET\")  # Alternatve configuration of the RocketClassifier\n"
   ]
  },
  {
   "cell_type": "markdown",
   "metadata": {},
   "source": [
    "# Start here"
   ]
  },
  {
   "cell_type": "code",
   "execution_count": 4,
   "metadata": {},
   "outputs": [
    {
     "name": "stdout",
     "output_type": "stream",
     "text": [
      "(22, 1, 24) X_test \n",
      "\n"
     ]
    },
    {
     "data": {
      "text/plain": [
       "(20, 504)"
      ]
     },
     "execution_count": 4,
     "metadata": {},
     "output_type": "execute_result"
    }
   ],
   "source": [
    "from aeon.transformations.collection.convolution_based import MiniRocket\n",
    "from aeon.datasets import load_unit_test\n",
    "from preprocessing.stream_transforms import z_score_normalize\n",
    "X_train, y_train = load_unit_test(split=\"train\")\n",
    "X_test, y_test = load_unit_test(split=\"test\")\n",
    "X_train, X_test = z_score_normalize(X_train, X_test)\n",
    "print_shape(X_test)\n",
    "\n",
    "trf = MiniRocket(num_kernels=512)\n",
    "trf.fit(X_train)\n",
    "feat_X_train = trf.transform(X_train)\n",
    "feat_X_test = trf.transform(X_test)\n",
    "\n",
    "feat_X_train.shape"
   ]
  },
  {
   "cell_type": "code",
   "execution_count": 5,
   "metadata": {},
   "outputs": [],
   "source": [
    "from aeon.transformations.collection.convolution_based import MiniRocketMultivariate\n",
    "from preprocessing.stream_transforms import z_score_normalize, normalize_streams, augment_time, add_basepoint_zero\n",
    "from aeon.classification.sklearn import RotationForestClassifier\n",
    "from sklearn.linear_model import RidgeCV\n",
    "from sklearn.metrics import accuracy_score\n",
    "import time\n",
    "\n",
    "def train_test_EC(transformer, \n",
    "                  transpose_time:bool = False, \n",
    "                  torch_input:bool = True,\n",
    "                  device=\"cuda\",\n",
    "    ):\n",
    "    with torch.no_grad():\n",
    "        # load data\n",
    "        torch.cuda.empty_cache()\n",
    "        train_X, train_y, test_X, test_y = get_aeon_dataset(\"NATOPS\")\n",
    "        # train_X = np.diff(train_X, axis=1)\n",
    "        # test_X = np.diff(test_X, axis=1)\n",
    "        train_X, test_X = normalize_streams(train_X, test_X, max_T=100)\n",
    "        if transpose_time:\n",
    "            train_X, test_X = train_X.transpose(0, 2, 1), test_X.transpose(0, 2, 1)\n",
    "        if torch_input:\n",
    "            train_X = torch.tensor(train_X).to(device)\n",
    "            train_X = add_basepoint_zero(train_X)\n",
    "            train_X = augment_time(train_X)\n",
    "            test_X  = torch.tensor(test_X).to(device)\n",
    "            test_X = add_basepoint_zero(test_X)\n",
    "            test_X  = augment_time(test_X)\n",
    "\n",
    "\n",
    "\n",
    "        # fit transformer\n",
    "        t0 = time.time()\n",
    "        transformer.fit(train_X)\n",
    "        train_X = transformer.transform(train_X)\n",
    "        test_X = transformer.transform(test_X)\n",
    "        if torch_input:\n",
    "            train_X = train_X.cpu().numpy()\n",
    "            test_X = test_X.cpu().numpy()\n",
    "        t1 = time.time()\n",
    "        print_shape(train_X)\n",
    "        print(f\"Time to transform: {t1-t0} seconds\")\n",
    "\n",
    "        # train classifier      \n",
    "        clf = RotationForestClassifier()\n",
    "        clf.fit(train_X, train_y)\n",
    "        t2 = time.time()\n",
    "        print(f\"Time to fit classifier on train: {t2-t1} seconds\")\n",
    "\n",
    "        # predict\n",
    "        pred = clf.predict(test_X)\n",
    "        acc = accuracy_score(test_y, pred)\n",
    "        t3 = time.time()\n",
    "        print(f\"Time to predict: {t3-t2} seconds\")\n",
    "        print(f\"{acc} accuracy for {transformer}\")"
   ]
  },
  {
   "cell_type": "code",
   "execution_count": null,
   "metadata": {},
   "outputs": [],
   "source": [
    "train_test_EC(\n",
    "    MiniRocketMultivariate(num_kernels=500),\n",
    "    transpose_time=True,\n",
    "    torch_input=False,\n",
    ")\n",
    "# Time to transform: 1.1914794445037842 seconds\n",
    "# Time to fit classifier on train: 43.77142024040222 seconds\n",
    "# Time to predict: 2.8060500621795654 seconds\n",
    "# 0.39543726235741444 accuracy for MiniRocketMultivariate(num_kernels=500)"
   ]
  },
  {
   "cell_type": "code",
   "execution_count": 6,
   "metadata": {},
   "outputs": [
    {
     "name": "stdout",
     "output_type": "stream",
     "text": [
      "(180, 500) train_X \n",
      "\n",
      "Time to transform: 1.9670898914337158 seconds\n",
      "Time to fit classifier on train: 43.55842113494873 seconds\n",
      "Time to predict: 3.1606154441833496 seconds\n",
      "0.5722222222222222 accuracy for <features.randomized_sig.RandomizedSignature object at 0x7f301ee2dcd0>\n"
     ]
    }
   ],
   "source": [
    "train_test_EC(\n",
    "    RandomizedSignature(\n",
    "        n_features=500,\n",
    "        activation=\"linear\"\n",
    "    ),\n",
    "    device=\"cuda\",\n",
    ")"
   ]
  },
  {
   "cell_type": "code",
   "execution_count": 7,
   "metadata": {},
   "outputs": [
    {
     "name": "stdout",
     "output_type": "stream",
     "text": [
      "(180, 500) train_X \n",
      "\n",
      "Time to transform: 2.150810956954956 seconds\n",
      "Time to fit classifier on train: 43.39476466178894 seconds\n",
      "Time to predict: 2.971315622329712 seconds\n",
      "0.5555555555555556 accuracy for <features.randomized_sig.RandomizedSignature object at 0x7f301e3b72d0>\n"
     ]
    }
   ],
   "source": [
    "train_test_EC(\n",
    "    RandomizedSignature(\n",
    "        n_features=500,\n",
    "        activation=\"tanh\"\n",
    "    ),\n",
    "    device=\"cuda\",\n",
    ")"
   ]
  },
  {
   "cell_type": "code",
   "execution_count": null,
   "metadata": {},
   "outputs": [],
   "source": [
    "train_test_EC(\n",
    "    SigVanillaTensorizedRandProj(\n",
    "        n_features=500,\n",
    "        trunc_level=2,\n",
    "    ),\n",
    "    device=\"cpu\",\n",
    ")\n",
    "# Time to transform: 0.37505316734313965 seconds\n",
    "# Time to fit classifier on train: 608.9609467983246 seconds\n",
    "# Time to predict: 39.79999351501465 seconds\n",
    "# 0.3612167300380228 accuracy for SigVanillaTensorizedRandProj(n_features=5000)\n"
   ]
  },
  {
   "cell_type": "code",
   "execution_count": null,
   "metadata": {},
   "outputs": [],
   "source": [
    "train_test_EC(\n",
    "    SigRBFTensorizedRandProj(\n",
    "        n_features=500,\n",
    "        trunc_level=3,\n",
    "        sigma=10.0,\n",
    "    ),\n",
    "    device=\"cuda\",\n",
    ")"
   ]
  },
  {
   "cell_type": "code",
   "execution_count": null,
   "metadata": {},
   "outputs": [],
   "source": [
    "train_test_EC(\n",
    "    SigTransform(\n",
    "        trunc_level=2,\n",
    "    ),\n",
    "    device=\"cuda\",\n",
    ")"
   ]
  },
  {
   "cell_type": "code",
   "execution_count": null,
   "metadata": {},
   "outputs": [],
   "source": [
    "train_test_EC(\n",
    "    LogSigTransform(\n",
    "        trunc_level=2,\n",
    "    ),\n",
    "    device=\"cpu\",\n",
    ")"
   ]
  }
 ],
 "metadata": {
  "kernelspec": {
   "display_name": "Python 3",
   "language": "python",
   "name": "python3"
  },
  "language_info": {
   "codemirror_mode": {
    "name": "ipython",
    "version": 3
   },
   "file_extension": ".py",
   "mimetype": "text/x-python",
   "name": "python",
   "nbconvert_exporter": "python",
   "pygments_lexer": "ipython3",
   "version": "3.11.8"
  }
 },
 "nbformat": 4,
 "nbformat_minor": 2
}
