{
 "cells": [
  {
   "cell_type": "code",
   "execution_count": 28,
   "metadata": {},
   "outputs": [],
   "source": [
    "import torch\n",
    "from torch import Tensor"
   ]
  },
  {
   "cell_type": "code",
   "execution_count": 42,
   "metadata": {},
   "outputs": [
    {
     "name": "stdout",
     "output_type": "stream",
     "text": [
      "tensor([0.0000, 0.2500, 0.5000, 0.7500, 1.0000]) torch.Size([5])\n",
      "tensor([[[0.0000],\n",
      "         [0.2500],\n",
      "         [0.5000],\n",
      "         [0.7500],\n",
      "         [1.0000]],\n",
      "\n",
      "        [[0.0000],\n",
      "         [0.2500],\n",
      "         [0.5000],\n",
      "         [0.7500],\n",
      "         [1.0000]],\n",
      "\n",
      "        [[0.0000],\n",
      "         [0.2500],\n",
      "         [0.5000],\n",
      "         [0.7500],\n",
      "         [1.0000]]]) torch.Size([3, 5, 1])\n"
     ]
    }
   ],
   "source": [
    "T = 5\n",
    "time = torch.linspace(0, 1, T)\n",
    "print(time, time.shape)\n",
    "stacked = time.repeat(3, 1)[:,:, None]\n",
    "print(stacked, stacked.shape)"
   ]
  }
 ],
 "metadata": {
  "kernelspec": {
   "display_name": "Python 3",
   "language": "python",
   "name": "python3"
  },
  "language_info": {
   "codemirror_mode": {
    "name": "ipython",
    "version": 3
   },
   "file_extension": ".py",
   "mimetype": "text/x-python",
   "name": "python",
   "nbconvert_exporter": "python",
   "pygments_lexer": "ipython3",
   "version": "3.11.8"
  }
 },
 "nbformat": 4,
 "nbformat_minor": 2
}
